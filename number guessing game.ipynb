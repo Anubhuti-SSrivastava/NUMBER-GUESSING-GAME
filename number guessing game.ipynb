{
 "cells": [
  {
   "cell_type": "markdown",
   "id": "9fd22200",
   "metadata": {},
   "source": [
    "# UNICOMPILER TASK1"
   ]
  },
  {
   "cell_type": "code",
   "execution_count": 40,
   "id": "bc8bcbd3",
   "metadata": {},
   "outputs": [],
   "source": [
    "#Anubhuti Srivastava #Rajkiya Engineering College"
   ]
  },
  {
   "cell_type": "markdown",
   "id": "b50aba1a",
   "metadata": {},
   "source": [
    "NUMBER GUESSING GAME"
   ]
  },
  {
   "cell_type": "markdown",
   "id": "33ce261d",
   "metadata": {},
   "source": [
    "Prequities"
   ]
  },
  {
   "cell_type": "code",
   "execution_count": 41,
   "id": "67733114",
   "metadata": {},
   "outputs": [],
   "source": [
    "from tkinter import*\n",
    "from tkinter import messagebox"
   ]
  },
  {
   "cell_type": "code",
   "execution_count": 42,
   "id": "aa26c390",
   "metadata": {},
   "outputs": [],
   "source": [
    "import random"
   ]
  },
  {
   "cell_type": "code",
   "execution_count": 43,
   "id": "66f3d7e1",
   "metadata": {},
   "outputs": [],
   "source": [
    "target = 0\n",
    "s = 10\n",
    "g=0"
   ]
  },
  {
   "cell_type": "markdown",
   "id": "fb23b919",
   "metadata": {},
   "source": [
    "Making functions for clues"
   ]
  },
  {
   "cell_type": "code",
   "execution_count": 44,
   "id": "cad8fe60",
   "metadata": {},
   "outputs": [],
   "source": [
    "\n",
    "def add():\n",
    "   return \"The sum of target and guess is \" + str(g+target)\n",
    " \n",
    "def sub():\n",
    "   return \"The difference of target and guess is \" + str(target-g)\n",
    " \n",
    "def multiplication():\n",
    "   return \"The product of target and guess is \" + str(g*target)\n",
    " \n",
    "def division():\n",
    "   return \"The division of target by guess is \" + str(target/g)\n",
    " \n",
    "def greater_lesser():\n",
    "   if target < g:\n",
    "       return 'Target is less than the guess'\n",
    "   elif target > g:\n",
    "       return 'Target is greater than the guess'\n"
   ]
  },
  {
   "cell_type": "code",
   "execution_count": 45,
   "id": "c1d814fc",
   "metadata": {},
   "outputs": [],
   "source": [
    "\n",
    "def clues():\n",
    "   switcher = {\n",
    "       0: add(),\n",
    "       1: sub(),\n",
    "       2: multiplication(),\n",
    "       3: division(),\n",
    "       4: greater_lesser()\n",
    "       }\n",
    "   return switcher.get(random.randint(0,4))\n",
    "        \n",
    "\n",
    "        "
   ]
  },
  {
   "cell_type": "code",
   "execution_count": 46,
   "id": "049e54bb",
   "metadata": {},
   "outputs": [],
   "source": [
    "\n",
    "def generate_target_number():  \n",
    "   global t\n",
    "   t = random.randint(1,10)\n",
    "   messagebox.showinfo(message=\"Random Number Generated; Start Guessing!! STARTING SCORE=10\")\n",
    "   #Disable the random number button until game ends   \n",
    "   random_number_button['state'] = DISABLED \n",
    "   #Activate the guessing button\n",
    "   guess_button['state'] = NORMAL"
   ]
  },
  {
   "cell_type": "code",
   "execution_count": 47,
   "id": "baab8081",
   "metadata": {},
   "outputs": [],
   "source": [
    "\n",
    "def guess_and_score():\n",
    "   #Make variables global for access across functions\n",
    "   global score\n",
    "   global g\n",
    "   try:\n",
    "       g =0\n",
    "       #Read if user submitted an input\n",
    "       g = int(guess_entry.get())\n",
    "   except:\n",
    "       messagebox.showerror(message=\"Enter a number to guess and play\")\n",
    "       return\n",
    "   #If target and guess are the same, print score and prompt to user\n",
    "   if g == target:\n",
    "       messagebox.showinfo(message=\"Congratulations!!! You guessed the number correct. Your score is \"+str(s))\n",
    "       #Enable random number button to play a new game and disable guessing button\n",
    "       random_number_button['state'] = NORMAL\n",
    "       guess_button['state'] = DISABLED \n",
    "       return\n",
    "   #If the user runs out of guesses\n",
    "   elif s == 0:\n",
    "       messagebox.showwarning(message=\"Out of Guesses Buddy! Better luck next time );\")\n",
    "       return\n",
    "   #Call the guessing functions to give the clues\n",
    "   else:\n",
    "       s -= 1\n",
    "       message=clues()\n",
    "       messagebox.showinfo(message=message)"
   ]
  },
  {
   "cell_type": "code",
   "execution_count": 48,
   "id": "1a8ae7bd",
   "metadata": {},
   "outputs": [],
   "source": [
    "#Creating User interface"
   ]
  },
  {
   "cell_type": "code",
   "execution_count": 49,
   "id": "c27689ea",
   "metadata": {},
   "outputs": [],
   "source": [
    "\n",
    "window  = Tk()\n",
    "window.geometry(\"1000x1000\")\n",
    "window.title(\"UNICOMPILER PYTHON TASK\")\n",
    " \n",
    "#Mention the title of the app\n",
    "title_label = Label(window, text=\"UNICOMPILER's Number Guessing Game\\nGuess a number between 1 to 10\\n\\n\", font=('Ubuntu Mono',12))\n",
    "title_label.pack()\n",
    " \n",
    "#Generate random number\n",
    "random_number_button = Button(window, text=\"Generate Random Number\\n\\n\", command=generate_target_number)\n",
    "random_number_button.pack()\n",
    "#Read User input\n",
    "guess_label = Label(window, text=\"\\n\\nEnter your guess\\n\\n: \")\n",
    "guess_label.pack()\n",
    "guess_entry = Entry(window, width=3)\n",
    "guess_entry.pack()\n",
    "#Start guessing\n",
    "guess_button = Button(window, text=\"\\n\\nGuess Me\\n\\n\", command=guess_and_score, state=DISABLED)\n",
    "guess_button.pack()\n",
    "#Exit and close the app\n",
    "window.mainloop()"
   ]
  },
  {
   "cell_type": "code",
   "execution_count": 28,
   "id": "b7b034fc",
   "metadata": {},
   "outputs": [],
   "source": [
    "\n",
    "    #end of program"
   ]
  },
  {
   "cell_type": "code",
   "execution_count": 29,
   "id": "6f8bf3e5",
   "metadata": {},
   "outputs": [],
   "source": [
    "#thank  you"
   ]
  },
  {
   "cell_type": "code",
   "execution_count": null,
   "id": "7f3bbb50",
   "metadata": {},
   "outputs": [],
   "source": []
  }
 ],
 "metadata": {
  "kernelspec": {
   "display_name": "Python 3",
   "language": "python",
   "name": "python3"
  },
  "language_info": {
   "codemirror_mode": {
    "name": "ipython",
    "version": 3
   },
   "file_extension": ".py",
   "mimetype": "text/x-python",
   "name": "python",
   "nbconvert_exporter": "python",
   "pygments_lexer": "ipython3",
   "version": "3.8.8"
  }
 },
 "nbformat": 4,
 "nbformat_minor": 5
}
